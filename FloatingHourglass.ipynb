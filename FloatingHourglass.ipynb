{
 "cells": [
  {
   "cell_type": "markdown",
   "metadata": {},
   "source": [
    "# Floating Hourglass\n",
    "\n",
    "We started by looking at the following animation:\n",
    "\n",
    "![Floating Hourglass](https://i.makeagif.com/media/7-29-2016/Clh8gl.gif)\n",
    "\n",
    "This is very counter intuitive. The total mass and volume of the hourglass is always the same. So it seems that the force of gravity and the bouyant force should always be the same. This would imply that it either always sinks, or always floats. So clearly something else is going on.\n",
    "\n",
    "Derek came up with a theory about how the hourglass could wedge itself against the walls of the container due to an unstable equilibrium. This seemed highly plausible (and turns out to be the right answer). Zak went about seeing if this would happen for some unintuitive reason (which in hindsight was clearly wrong). He did this by first modeling the object as two can stacked like so below.\n",
    "\n",
    "<img src=\"Hourglass-CansStacked.png\" width=500px>\n",
    "\n",
    "The total mass of the system is $M$. The top can has mass $m_T$ and the bottom can mass $m_B$. $M$ can be expressed as the sum of $m_T$ and $m_B$. Since the basic unit of mass in this system is the mass volume of water displaced by a single can, $m_w$, we should express all masses this way. Thus the total mass will become:\n",
    "\n",
    "$$M=\\kappa m_w \\ni \\kappa \\in \\mathbb{R^{+}} \\label{kmass}\\tag{1}$$\n",
    "\n",
    "Thus we have\n",
    "\n",
    "$$ \\kappa m_w = m_T + m_B \\label{kmassSum}\\tag{2}$$\n",
    "\n",
    "Since we are attempting to mimic an hourglass we know that we will be transferring mass from the top can to the bottom can. We will paramaterize how much of the total mass is in the top can using a filling factor $\\lambda$ such that $0 \\leq \\lambda \\leq 1$. This means that all are masses are described by:\n",
    "\n",
    "\\begin{align}\n",
    "    m_T &=\\lambda M \\label{mt}\\tag{3} \\\\\n",
    "    m_B &= (1-\\lambda) M \\label{mb}\\tag{4}\\\\\n",
    "    \\kappa m_w &= \\lambda\\kappa m_w + (1-\\lambda)\\kappa m_w \\label{mass}\\tag{5}\n",
    "\\end{align}\n",
    "\n",
    "$\\ref{mass}$ can be accounted for by combinging $\\ref{kmass}$, $\\ref{kmassSum}$, $\\ref{mt}$ and $\\ref{mb}$.\n",
    "\n",
    "Now we look at the forces on the two cans. Zak started by ignoring the force between the cans to see what situations might arise. We think of this as two cans floating side by side and we will transfer mass from the can on the left $m_T$ to the can on the right $m_B$.\n",
    "\n",
    "<img src=\"Hourglass-CansSide-Forces.png\" width=500px>\n",
    "\n",
    "Let's get a better understanding of $\\kappa$. To start we look at any submerged object. If gravity and the bouyant forces are the only two forces acting on the object, and it is neutrally bouyant, then we know the following.\n",
    "\n",
    "\\begin{align}\n",
    "    -mg+&F_{Bouy} = 0 \\\\\n",
    "    \\Rightarrow F_{Bouy}&=mg \\label{Bouy1} \\tag{6}\n",
    "\\end{align}\n",
    "\n",
    "Then the bouyant force is defined as the following, where $\\rho_w$ is the density of water (since we are using water) and $V$ is the volume of the object.\n",
    "\n",
    "\\begin{align}\n",
    "    F_{Bouy} = \\rho_wVg = m_wg \\label{Bouy2} \\tag{7}\n",
    "\\end{align}\n",
    "\n",
    "The last equality comes from mass being the product of density and volume. Notice though that since it is the density of water and the volume of the object, we get the mass of the water displaced by the object. This is true of any object submerged in water.\n",
    "\n",
    "Now we substitute \\ref{Bouy2} into \\ref{Bouy1} to get the condition for neutral bouyancy:\n",
    "\n",
    "\\begin{align}\n",
    "    m = m_w \\label{Bouy3} \\tag{8}\n",
    "\\end{align}\n",
    "\n",
    "That is to say that the object will be neutrally bouyant when its mass is equal to the mass of the volume of water it has displaced. \n",
    "\n",
    "For us, this means that one of our cans will float when it has equal to $m_w$. This happens for either individual can when it is full and $\\kappa=1$. We can think of $\\kappa$ then as the number of masses of displaced water of a single can. This is why we chose to use this as our basic unit of mass. \n",
    "\n",
    "When $\\kappa=1$ the system (both cans together) will have the same mass as one of the can full. Then while $\\lambda$ varies between 1 and 0 mass will start in the top cand move to the bottom. When $\\lambda=1$ we will meet our neutrl bouyancy condition, \\ref{Bouy3}, for the top can. The bottom will then went float. Once we move any amount of mass from the top can to the bottom, $0<\\lambda<1$, both cans will want to sink. Each will now have a mass less than $m_w$. \n",
    "\n",
    "Since we are transferring mass from the top can to the bottom, we know that when $\\kappa$"
   ]
  },
  {
   "cell_type": "code",
   "execution_count": 184,
   "metadata": {
    "scrolled": false
   },
   "outputs": [
    {
     "data": {
      "application/vnd.jupyter.widget-view+json": {
       "model_id": "66608040a2dd4ee6877430a29f4f39b5",
       "version_major": 2,
       "version_minor": 0
      },
      "text/plain": [
       "A Jupyter Widget"
      ]
     },
     "metadata": {},
     "output_type": "display_data"
    },
    {
     "data": {
      "application/vnd.jupyter.widget-view+json": {
       "model_id": "2b756212e9954b3f917ffc3f858119f0",
       "version_major": 2,
       "version_minor": 0
      },
      "text/plain": [
       "A Jupyter Widget"
      ]
     },
     "metadata": {},
     "output_type": "display_data"
    }
   ],
   "source": [
    "play = widgets.Play(\n",
    "    value = 0,\n",
    "    min=0,\n",
    "    max=50,\n",
    "    step=1,\n",
    "    description=\"Press to view what happens\",\n",
    "    disabled=False\n",
    ")\n",
    "\n",
    "interactive_plot = interactive(int_plot, \n",
    "                               lam=(0.00, 1.00, 0.01),\n",
    "                               kappa=(0.1, 5.0, 0.1), \n",
    "                               scale=(0.0,2.0),\n",
    "                               time=(0.0,50, 1)\n",
    "                              )\n",
    "output = interactive_plot.children[-1]\n",
    "#output.layout.height = \"500px\"\n",
    "interactive_plot.children[0].value = 1\n",
    "interactive_plot.children[1].value = 1\n",
    "interactive_plot.children[2].value = 1\n",
    "interactive_plot.children[3].value = 0\n",
    "widgets.jslink((play, 'value'), (interactive_plot.children[3], 'value'))\n",
    "display(play)\n",
    "interactive_plot"
   ]
  },
  {
   "cell_type": "code",
   "execution_count": 183,
   "metadata": {},
   "outputs": [
    {
     "data": {
      "text/html": [
       "<script>requirejs.config({paths: { 'plotly': ['https://cdn.plot.ly/plotly-latest.min']},});if(!window.Plotly) {{require(['plotly'],function(plotly) {window.Plotly=plotly;});}}</script>"
      ],
      "text/vnd.plotly.v1+html": [
       "<script>requirejs.config({paths: { 'plotly': ['https://cdn.plot.ly/plotly-latest.min']},});if(!window.Plotly) {{require(['plotly'],function(plotly) {window.Plotly=plotly;});}}</script>"
      ]
     },
     "metadata": {},
     "output_type": "display_data"
    }
   ],
   "source": [
    "from ipywidgets import interactive, widgets\n",
    "init_notebook_mode(connected=True)\n",
    "import matplotlib.pyplot as plt\n",
    "import matplotlib.patches as pt\n",
    "from IPython.display import display\n",
    "\n",
    "def makeSim(data, lam, kappa, scale, time):\n",
    "    kappa = scale*kappa\n",
    "    rect = pt.Rectangle\n",
    "    vect = pt.Arrow\n",
    "    \n",
    "    width = 3\n",
    "    height = 3\n",
    "    \n",
    "    time = time/10\n",
    "    \n",
    "    fig = plt.figure(figsize=(13,10))\n",
    "    ax = fig.add_subplot(111)\n",
    "    ax.set_xlim(0,10)\n",
    "    ax.set_ylim(-2,14)\n",
    "    ax.set_axis_off()\n",
    "    ax.add_patch(rect((0,0), 10, 10, facecolor=\"#0eb8d6\"))\n",
    "    ax.add_patch(rect((0,-2), 10, 2, facecolor=\"#adaca8\"))\n",
    "    \n",
    "    smallnumber = 1e-12\n",
    "    g= 2#1e-2\n",
    "    at = (1-lam*kappa)/(lam*kappa+smallnumber)*g\n",
    "    ab = (1/((1-lam)*kappa+smallnumber)-1)*g\n",
    "    \n",
    "    for i, datum in enumerate(data):\n",
    "        x = datum[0]\n",
    "        y = datum[1]\n",
    "        if i%2==0:\n",
    "            y = y + 1/2*at*time**2\n",
    "            if y>10+height/2-0.1:\n",
    "                y=10+height/2-0.1\n",
    "            elif y<height/2:\n",
    "                y=height/2\n",
    "            ax.add_patch(rect((x-width/2, y-height/2), \n",
    "                             width, lam*height,\n",
    "                             facecolor=\"#d6880c\"\n",
    "                            )\n",
    "                       )\n",
    "            ax.add_patch(vect(x,y,0,-kappa*lam, 1))\n",
    "            ax.text(x,y, \"$m_T$\", ha=\"center\", va=\"center\", fontsize=30)\n",
    "        else:\n",
    "            y = y + 1/2*ab*time**2\n",
    "            if y>10+height/2-0.1:\n",
    "                y=10+height/2-0.1\n",
    "            elif y<height/2:\n",
    "                y=height/2\n",
    "            ax.add_patch(rect((x-width/2, y-height/2), \n",
    "                             width, (1-lam)*height,\n",
    "                            facecolor=\"#d6880c\"\n",
    "                            )\n",
    "                       )\n",
    "            ax.add_patch(vect(x,y,0,-kappa*(1-lam), 1))\n",
    "            ax.text(x,y, \"$m_B$\", ha=\"center\", va=\"center\", fontsize=30)\n",
    "        \n",
    "        ax.add_patch(rect((x-width/2, y-height/2), \n",
    "                        width, height,\n",
    "                        fill=False,\n",
    "                        linewidth=3\n",
    "                       )\n",
    "                   )\n",
    "        ax.add_patch(vect(x,y,0, scale, 1, color=\"#e52246\"))\n",
    "    \n",
    "    return fig\n",
    "\n",
    "def int_plot(lam, kappa, scale, time):\n",
    "    fig = makeSim([(3,5), (7,5)], lam, kappa, scale, time)"
   ]
  },
  {
   "cell_type": "code",
   "execution_count": 125,
   "metadata": {},
   "outputs": [],
   "source": [
    "%matplotlib inline"
   ]
  },
  {
   "cell_type": "code",
   "execution_count": null,
   "metadata": {},
   "outputs": [],
   "source": []
  }
 ],
 "metadata": {
  "kernelspec": {
   "display_name": "Python 3",
   "language": "python",
   "name": "python3"
  },
  "language_info": {
   "codemirror_mode": {
    "name": "ipython",
    "version": 3
   },
   "file_extension": ".py",
   "mimetype": "text/x-python",
   "name": "python",
   "nbconvert_exporter": "python",
   "pygments_lexer": "ipython3",
   "version": "3.6.4"
  }
 },
 "nbformat": 4,
 "nbformat_minor": 2
}
